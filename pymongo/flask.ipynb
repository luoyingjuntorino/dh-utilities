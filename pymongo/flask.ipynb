{
 "cells": [
  {
   "cell_type": "code",
   "execution_count": null,
   "metadata": {},
   "outputs": [],
   "source": [
    "from flask import Flask, request\n",
    "import os\n",
    "from pymongo import MongoClient\n",
    "\n",
    "app = Flask(__name__)\n",
    "\n",
    "# 设置MongoDB连接\n",
    "client = MongoClient('mongodb://localhost:27017/')\n",
    "db = client['my_database']\n",
    "collection = db['images']\n",
    "\n",
    "# 图片保存路径\n",
    "UPLOAD_FOLDER = ''\n",
    "app.config['UPLOAD_FOLDER'] = UPLOAD_FOLDER\n",
    "\n",
    "@app.route('/upload', methods=['POST'])\n",
    "def upload():\n",
    "    # 获取POST请求中的图片数据\n",
    "    file = request.files['image']\n",
    "\n",
    "    # 保存图片到指定文件夹\n",
    "    file.save(os.path.join(app.config['UPLOAD_FOLDER'], file.filename))\n",
    "\n",
    "    # 保存图片路径及相关信息到MongoDB\n",
    "    image_data = {\n",
    "        'path': os.path.join(UPLOAD_FOLDER, file.filename),\n",
    "        'other_info': 'your_additional_info'\n",
    "    }\n",
    "    collection.insert_one(image_data)\n",
    "\n",
    "    return 'Image uploaded successfully'\n",
    "\n",
    "if __name__ == '__main__':\n",
    "    app.run()"
   ]
  },
  {
   "cell_type": "code",
   "execution_count": null,
   "metadata": {},
   "outputs": [],
   "source": []
  }
 ],
 "metadata": {
  "kernelspec": {
   "display_name": "Python 3",
   "language": "python",
   "name": "python3"
  },
  "language_info": {
   "codemirror_mode": {
    "name": "ipython",
    "version": 3
   },
   "file_extension": ".py",
   "mimetype": "text/x-python",
   "name": "python",
   "nbconvert_exporter": "python",
   "pygments_lexer": "ipython3",
   "version": "3.10.11"
  },
  "orig_nbformat": 4
 },
 "nbformat": 4,
 "nbformat_minor": 2
}
