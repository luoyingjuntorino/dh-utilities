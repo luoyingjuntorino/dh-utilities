{
 "cells": [
  {
   "cell_type": "code",
   "execution_count": 1,
   "metadata": {},
   "outputs": [
    {
     "data": {
      "text/plain": [
       "'data'"
      ]
     },
     "execution_count": 1,
     "metadata": {},
     "output_type": "execute_result"
    }
   ],
   "source": [
    "import pymongo\n",
    "client = pymongo.MongoClient(\"localhost\", 27017) # connect to Mongo\n",
    "db = client[\"data\"] # create a new database, if exist mongo will connect to it directly otherwise will create it.\n",
    "db.name"
   ]
  },
  {
   "cell_type": "code",
   "execution_count": 2,
   "metadata": {},
   "outputs": [],
   "source": [
    "collection = db['my_collection'] # create a table/collection"
   ]
  },
  {
   "cell_type": "code",
   "execution_count": 3,
   "metadata": {},
   "outputs": [],
   "source": [
    "client.close()"
   ]
  },
  {
   "cell_type": "code",
   "execution_count": 6,
   "metadata": {},
   "outputs": [
    {
     "name": "stdout",
     "output_type": "stream",
     "text": [
      "图片路径已保存到数据库\n",
      "获取到图片路径: /path/to/image.jpg\n"
     ]
    }
   ],
   "source": [
    "from pymongo import MongoClient\n",
    "\n",
    "# 连接到MongoDB数据库\n",
    "client = MongoClient('mongodb://localhost:27017/')\n",
    "db = client['my_database']  # 替换成你的数据库名称\n",
    "collection = db['data']  # 替换成你的集合名称\n",
    "\n",
    "# 存储图片路径到数据库\n",
    "def save_image_path(image_id, image_path):\n",
    "    image_data = {\n",
    "        'image_id': image_id,\n",
    "        'image_path': image_path\n",
    "    }\n",
    "    collection.insert_one(image_data)\n",
    "    print(\"图片路径已保存到数据库\")\n",
    "\n",
    "# 从数据库中获取图片路径\n",
    "def get_image_path(image_id):\n",
    "    query = {'image_id': image_id}\n",
    "    result = collection.find_one(query)\n",
    "    if result:\n",
    "        return result['image_path']\n",
    "    else:\n",
    "        return None\n",
    "\n",
    "# 示例用法\n",
    "image_id = 2\n",
    "image_path = '/path/to/image.jpg'\n",
    "\n",
    "# 存储图片路径到数据库\n",
    "save_image_path(image_id, image_path)\n",
    "\n",
    "# 从数据库中获取图片路径\n",
    "retrieved_image_path = get_image_path(image_id)\n",
    "if retrieved_image_path:\n",
    "    print(\"获取到图片路径:\", retrieved_image_path)\n",
    "else:\n",
    "    print(\"未找到图片路径\")\n",
    "\n",
    "# 关闭数据库连接\n",
    "client.close()"
   ]
  },
  {
   "cell_type": "code",
   "execution_count": 5,
   "metadata": {},
   "outputs": [
    {
     "name": "stdout",
     "output_type": "stream",
     "text": [
      "Database: admin\n",
      "  Collection: system.version\n",
      "Database: config\n",
      "  Collection: system.sessions\n",
      "Database: local\n",
      "  Collection: startup_log\n",
      "Database: my_database\n",
      "  Collection: data\n",
      "  Collection: images\n"
     ]
    }
   ],
   "source": [
    "from pymongo import MongoClient\n",
    "\n",
    "# 创建MongoDB的连接对象\n",
    "client = MongoClient('mongodb://localhost:27017')\n",
    "\n",
    "# 列出所有数据库\n",
    "database_names = client.list_database_names()\n",
    "for db_name in database_names:\n",
    "    print(\"Database:\", db_name)\n",
    "    # 获取数据库对象\n",
    "    db = client[db_name]\n",
    "    # 列出数据库中的所有集合\n",
    "    collection_names = db.list_collection_names()\n",
    "    for collection_name in collection_names:\n",
    "        print(\"  Collection:\", collection_name)\n",
    "\n",
    "# 关闭连接\n",
    "client.close()\n"
   ]
  },
  {
   "cell_type": "code",
   "execution_count": 11,
   "metadata": {},
   "outputs": [],
   "source": [
    "from pymongo import MongoClient\n",
    "\n",
    "# 创建MongoDB的连接对象\n",
    "client = MongoClient('mongodb://localhost:27017')\n",
    "\n",
    "# 获取数据库对象\n",
    "db = client['my_database']\n",
    "\n",
    "# 删除集合\n",
    "db['data'].drop()\n",
    "\n",
    "# 关闭连接\n",
    "client.close()\n"
   ]
  },
  {
   "cell_type": "code",
   "execution_count": null,
   "metadata": {},
   "outputs": [],
   "source": []
  }
 ],
 "metadata": {
  "kernelspec": {
   "display_name": "Python 3",
   "language": "python",
   "name": "python3"
  },
  "language_info": {
   "codemirror_mode": {
    "name": "ipython",
    "version": 3
   },
   "file_extension": ".py",
   "mimetype": "text/x-python",
   "name": "python",
   "nbconvert_exporter": "python",
   "pygments_lexer": "ipython3",
   "version": "3.10.11"
  },
  "orig_nbformat": 4
 },
 "nbformat": 4,
 "nbformat_minor": 2
}
