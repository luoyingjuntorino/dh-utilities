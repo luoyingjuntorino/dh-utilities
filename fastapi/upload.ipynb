{
 "cells": [
  {
   "cell_type": "code",
   "execution_count": 1,
   "metadata": {},
   "outputs": [
    {
     "name": "stdout",
     "output_type": "stream",
     "text": [
      "{'message': 'Image uploaded and saved as 2023-08-23-15-05.png', 'description': 'A beautiful landscape'}\n"
     ]
    }
   ],
   "source": [
    "import requests\n",
    "\n",
    "url = \"http://127.0.0.1:8000/api/v1/upload/image/\"\n",
    "files = {\"image\": (\"test01.png\", open(\"test01.png\", \"rb\"), \"image/png\")}\n",
    "data = {\"description\": \"A beautiful landscape\"}  # metadata\n",
    "response = requests.post(url, files=files, data=data)\n",
    "print(response.json())"
   ]
  },
  {
   "cell_type": "code",
   "execution_count": 4,
   "metadata": {},
   "outputs": [
    {
     "name": "stdout",
     "output_type": "stream",
     "text": [
      "Upload failed\n",
      "Internal Server Error\n"
     ]
    }
   ],
   "source": [
    "import requests\n",
    "\n",
    "url = \"http://127.0.0.1:8000/api/v0/upload/image/\"\n",
    "files = {\"image\": (\"hdr_mitsunaga_800_600__evalglare.hdr\", open(\"hdr_mitsunaga_800_600__evalglare.hdr\", \"rb\"))}\n",
    "\"\"\"\n",
    "当传输二进制文件,如HDR图像时, 与传输普通文件不同, 我们不需要指定文件类型, 例如，\"image/png\"\n",
    "\"\"\"\n",
    "data = {\"description\": \"A beautiful HDR image\"}  # metadata\n",
    "\n",
    "response = requests.post(url, files=files, data=data)\n",
    "\n",
    "if response.status_code == 200:\n",
    "    print(\"Upload successful\")\n",
    "    print(response.json())\n",
    "else:\n",
    "    print(\"Upload failed\")\n",
    "    print(response.text)\n"
   ]
  },
  {
   "cell_type": "code",
   "execution_count": null,
   "metadata": {},
   "outputs": [],
   "source": []
  }
 ],
 "metadata": {
  "kernelspec": {
   "display_name": "Python 3",
   "language": "python",
   "name": "python3"
  },
  "language_info": {
   "codemirror_mode": {
    "name": "ipython",
    "version": 3
   },
   "file_extension": ".py",
   "mimetype": "text/x-python",
   "name": "python",
   "nbconvert_exporter": "python",
   "pygments_lexer": "ipython3",
   "version": "3.10.11"
  },
  "orig_nbformat": 4
 },
 "nbformat": 4,
 "nbformat_minor": 2
}
