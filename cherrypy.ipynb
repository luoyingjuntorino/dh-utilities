{
 "cells": [
  {
   "cell_type": "code",
   "execution_count": 1,
   "metadata": {},
   "outputs": [
    {
     "name": "stderr",
     "output_type": "stream",
     "text": [
      "[06/Jul/2023:01:06:03] ENGINE Bus STARTING\n",
      "CherryPy Checker:\n",
      "The Application mounted at '/api' has an empty config.\n",
      "\n",
      "[06/Jul/2023:01:06:03] ENGINE Started monitor thread 'Autoreloader'.\n",
      "[06/Jul/2023:01:06:04] ENGINE Serving on http://0.0.0.0:8000\n",
      "[06/Jul/2023:01:06:04] ENGINE Bus STARTED\n",
      "[06/Jul/2023:01:06:25] HTTP \n",
      "Traceback (most recent call last):\n",
      "  File \"c:\\Users\\luoyi\\AppData\\Local\\Programs\\Python\\Python310\\lib\\site-packages\\cherrypy\\_cprequest.py\", line 638, in respond\n",
      "    self._do_respond(path_info)\n",
      "  File \"c:\\Users\\luoyi\\AppData\\Local\\Programs\\Python\\Python310\\lib\\site-packages\\cherrypy\\_cprequest.py\", line 697, in _do_respond\n",
      "    response.body = self.handler()\n",
      "  File \"c:\\Users\\luoyi\\AppData\\Local\\Programs\\Python\\Python310\\lib\\site-packages\\cherrypy\\lib\\encoding.py\", line 223, in __call__\n",
      "    self.body = self.oldhandler(*args, **kwargs)\n",
      "  File \"c:\\Users\\luoyi\\AppData\\Local\\Programs\\Python\\Python310\\lib\\site-packages\\cherrypy\\lib\\jsontools.py\", line 59, in json_handler\n",
      "    value = cherrypy.serving.request._json_inner_handler(*args, **kwargs)\n",
      "  File \"c:\\Users\\luoyi\\AppData\\Local\\Programs\\Python\\Python310\\lib\\site-packages\\cherrypy\\_cpdispatch.py\", line 54, in __call__\n",
      "    return self.callable(*self.args, **self.kwargs)\n",
      "  File \"C:\\Users\\luoyi\\AppData\\Local\\Temp\\ipykernel_18488\\3075616563.py\", line 15, in api_data\n",
      "    if data[\"gpu_temperature\"] >= 68:\n",
      "KeyError: 'gpu_temperature'\n",
      "[06/Jul/2023:01:06:25] HTTP \n",
      "Request Headers:\n",
      "  Remote-Addr: 127.0.0.1\n",
      "  USER-AGENT: PostmanRuntime/7.32.3\n",
      "  ACCEPT: */*\n",
      "  POSTMAN-TOKEN: fb9cb8b3-317c-4f6d-8ac8-8825d6a607ff\n",
      "  HOST: localhost:8000\n",
      "  ACCEPT-ENCODING: gzip, deflate, br\n",
      "  CONNECTION: keep-alive\n",
      "  Content-Type: application/json\n",
      "  Content-Length: 18\n"
     ]
    },
    {
     "name": "stdout",
     "output_type": "stream",
     "text": [
      "Received data: {'temperature': 20}\n",
      "127.0.0.1 - - [06/Jul/2023:01:06:25] \"POST /api/api_data HTTP/1.1\" 500 1915 \"\" \"PostmanRuntime/7.32.3\"\n",
      "Received data: {'gpu_temperature': 20}\n",
      "127.0.0.1 - - [06/Jul/2023:01:07:00] \"POST /api/api_data HTTP/1.1\" 200 29 \"\" \"PostmanRuntime/7.32.3\"\n",
      "Received data: {'gpu_temperature': 20}\n",
      "127.0.0.1 - - [06/Jul/2023:01:07:35] \"POST /api/api_data HTTP/1.1\" 200 29 \"\" \"PostmanRuntime/7.32.3\"\n",
      "Received data: {'gpu_temperature': 70}\n",
      "127.0.0.1 - - [06/Jul/2023:01:07:59] \"POST /api/api_data HTTP/1.1\" 200 32 \"\" \"PostmanRuntime/7.32.3\"\n"
     ]
    }
   ],
   "source": [
    "import cherrypy\n",
    "\n",
    "\n",
    "class DataReceiver:\n",
    "\n",
    "    @cherrypy.expose\n",
    "    @cherrypy.tools.json_in()\n",
    "    @cherrypy.tools.json_out()\n",
    "    def api_data(self):\n",
    "        data = cherrypy.request.json\n",
    "        # 在这里编写处理来自DeviceHive插件的数据的逻辑\n",
    "        # 可以对数据进行验证、处理、存储等操作\n",
    "        # 这里只是一个简单的示例，将数据打印到控制台上\n",
    "        print(\"Received data:\", data)\n",
    "        if data[\"gpu_temperature\"] >= 68:\n",
    "            return {\"message\": \"gpu temp too high\"}\n",
    "        else:\n",
    "            return {\"message\": \"gpu temp is ok\"}\n",
    "\n",
    "\n",
    "if __name__ == \"__main__\":\n",
    "    cherrypy.tree.mount(DataReceiver(), \"/api\")\n",
    "    cherrypy.config.update({\"server.socket_host\": \"0.0.0.0\", \"server.socket_port\": 8000})\n",
    "    cherrypy.engine.start()\n",
    "    cherrypy.engine.block()\n"
   ]
  },
  {
   "cell_type": "code",
   "execution_count": null,
   "metadata": {},
   "outputs": [],
   "source": []
  }
 ],
 "metadata": {
  "kernelspec": {
   "display_name": "Python 3",
   "language": "python",
   "name": "python3"
  },
  "language_info": {
   "codemirror_mode": {
    "name": "ipython",
    "version": 3
   },
   "file_extension": ".py",
   "mimetype": "text/x-python",
   "name": "python",
   "nbconvert_exporter": "python",
   "pygments_lexer": "ipython3",
   "version": "3.10.11"
  },
  "orig_nbformat": 4
 },
 "nbformat": 4,
 "nbformat_minor": 2
}
